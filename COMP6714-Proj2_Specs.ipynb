{
 "cells": [
  {
   "cell_type": "markdown",
   "metadata": {},
   "source": [
    "# COMP6714 Project 2 Specification \n",
    "\n",
    "* ver 1.0.0\n",
    "* Last updated: 17 Oct 2017 \n",
    "\n",
    "### Submission Deadline: **13 Nov, 2017 (23:59:59 PM )** \n",
    "\n",
    "In this Project, you will be implementing your own Word Embeddings for adjectives. More specifically, we want the obtained embeddings to preserve as much synonym relationship as possible. This will be measured against a set of ground truth assembled manually from dictionaries. Key instructions concerning the project are listed below:\n",
    "\n",
    "* The model training required in the project is **time-consuming** (even if you have a high-end GPU card), so it is highly advised that you start working on this as early as possible.\n",
    "    * It may take up to several hours to train your embeddings once using `CPU`.\n",
    "* You are supposed to implement your methodology using Tensorflow (version > **1.0**).\n",
    "* You are **not** allowed to use supervised approaches to improve the model performance and you are **not** allowed to hard code the ground truth into your model. \n",
    "* You are required to implement your code using Python3.\n",
    "* You are required to use `spaCy(version greater than 1.8.0)` to process input data (not `nltk`). You can assume `spaCy` always gives the correct parsing results.\n",
    "* You will only be working with the provided dataset named: `BBC_Data.zip`, you are not supposed to augment this data using external/additional data sources."
   ]
  },
  {
   "cell_type": "markdown",
   "metadata": {},
   "source": [
    "\n",
    "# 1: INTRODUCTION\n",
    "\n",
    "The project constitutes two major parts listed below:\n",
    "\n",
    "## 1.1: Data Processing and Training Data Generation\n",
    "\n",
    "We provide only the raw form of data to be used in this project*, i.e.,* `BBC_Data.zip`. For embeddings, you are required to process this dataset using `spaCy`. You can write out your processed data file in the Present Working Directory (PWD), which can later be used to train the embeddings.\n",
    "\n",
    "While the vanilla word2vec skip-gram model generates its (mini-batches of) training data between a center word and a random sample of its context, you are encouraged to think of new methods such that the resulting embedding for adjectives are more likely to preserve the synonym relationship in its top-k results. \n",
    "\n",
    "## 1.2: Model Training:\n",
    "\n",
    "Model training part is supposed to read out your processed data, and come up with best possible settings to train the embeddings. For training, we have categorized the model parameters into two categories namely:*(i)*`fixed` and *(ii)*`tunnable`. You are supposed to come up with the best settings for `tunable` parameters, keeping the `fixed` parameters as such.\n",
    "\n",
    "### 1.2.1 Tunable Parameters:\n",
    "\n",
    "You are required to fine-tune the following parameters (1-6):\n",
    "\n",
    "1. **batch_size** <br>\n",
    "`batch_size` defines the size of minibatch used at a time to update the embeddings. You are allowed to come up with best value for batch size, its value should be less than 128.\n",
    "\n",
    "2. **skip_window** <br>\n",
    "`skip_window` defines the size of the context window surronding the target word, as illustrated in the notebook `Word2Vec_Demo.ipynb`.\n",
    "\n",
    "3. **num_samples** <br>\n",
    "`num_samples` defines the number of words to sample from the `skip_window`, as illustrated in the notebook `Word2Vec_Demo.ipynb`.\n",
    "\n",
    "4. **Vocabulary_size** <br>\n",
    "Maximum vocabulary size of your embeddings, you should adjust this parameter considering statistics of your processed data (i.e., after processing the raw data `BBC_Data.zip`). \n",
    "\n",
    "5. **learning_rate for optimizer** <br>\n",
    "`learning_rate` defines the learning rate of the optimizer. You should start with a low value (~ 0.001), and gradually increase it.\n",
    "\n",
    "6. **Number of Negative Samples** <br>\n",
    "Number of negative samples for the Sampled_Softmax loss, as illustrated in the notebook `Word2Vec_Demo.ipynb`.\n",
    "\n",
    "\n",
    "### 1.2.2 Fixed Parameters:\n",
    "\n",
    "To simplify experimentation, we will fix values for following parameters:\n",
    "1. **Embedding_dimensions** <br>\n",
    "You will be using 200-dimensions for the embeddings\n",
    "\n",
    "2. **Number of iterations** <br>\n",
    "You will be training your model with 100,001 training iterations each of batch_size less than or equal to 128.\n",
    "\n",
    "3. **Loss function** <br>\n",
    "You will be using `sampled_softmax_loss`, you are encouraged to see how is it different from Noise-Contrastive Estimation implemented in `Word2Vec_Demo.ipynb` \n",
    "\n",
    "4. **Optimization Method** <br>\n",
    "You will be using `AdamOptimizer` with best possible value for the learning rate. <br>\n",
    "\n",
    "**Note ** \n",
    "\n",
    "* You are required to come up with best settings for `tunable` parameters, while keeping the values for `fixed` parameters as such.\n",
    "\n",
    "## 1.3 Recommendations\n",
    "\n",
    "Section 1.1 should be the main focus of the project and we encourage you to experiment with different choices of training data for the word2vec skip-gram model. You shall learn both expected and unexpected lessons throughout this kind of interactions. In this direction, you may find (1) version and provenance control, and (2) batch execution systems useful. For example, you may want to revert your method to one that tried 3 days ago with a particular set of parameters and options; or you may want to do a grid search of possible parameter values automatically over the night, :)\n"
   ]
  },
  {
   "cell_type": "markdown",
   "metadata": {},
   "source": [
    "# 2: Submission:\n",
    "\n",
    "You are required to complete your implementation in the file: `submission.py`.<br>\n",
    "\n",
    "You should : <br>\n",
    "(a) Complete the method `process_data(input_data)`. This method:<br>\n",
    "\n",
    "* Reads the raw data `BBC_Data.zip`\n",
    "* Processes the data and writes out the processed file in Present Working Directory(PWD).<br>\n",
    "\n",
    "(b) Complete the method `adjective_embeddings(data_file, embeddings_file_name, num_steps, embedding_dim)` in the file: *submission.py*, using optimal settings for tunable parameters(1-6). This method should: <br>\n",
    "\n",
    "* Train embeddings using processed data from Part (2-a)\n",
    "* Write out trained embeddings in the file `\"adjective_embeddings.txt\"`.\n",
    "* You should store each float in the `\"adjective_embeddings.txt\"` upto 6 decimal places.\n",
    "\n",
    "(c) Complete the method `Compute_topk(model_file, input_adjective, top_k)`. This method should:\n",
    "\n",
    "* Read the `model_file` using python library gensim\n",
    "* Read the `input_adjective`.\n",
    "* Return **top_k** most_similar words (synonyms) for the `input_adjective`.\n",
    "\n",
    "(d) **You will be submitting** \n",
    "\n",
    "* Your complete implementation in the file `submission.py`. \n",
    "* Trained embeddings in a file named: `\"adjective_embeddings.txt\"` . \n",
    "* A report outlining your methodology, and reasoning and experimental results to support your methodology. \n",
    "\n",
    "Total file size is capped at **100MB**. \n",
    "\n",
    "**Note: ** *Your trained embeddings model named: `\"adjective_embeddings.txt\"` should be loadable using the python library `gensim` (explained in \"5 Evaluation\"). ** In case, if your model fails to load, you will recieve very low score.** *"
   ]
  },
  {
   "cell_type": "code",
   "execution_count": 1,
   "metadata": {
    "collapsed": true
   },
   "outputs": [],
   "source": [
    "# In this section, we load all the requisite libaries. \n",
    "import os\n",
    "import math\n",
    "import random\n",
    "import zipfile\n",
    "import numpy as np\n",
    "import tensorflow as tf"
   ]
  },
  {
   "cell_type": "markdown",
   "metadata": {},
   "source": [
    "# 3: Reading and Processing Input data\n",
    "\n",
    "In this part, you will be reading the data file named: `\"BBC_Data.zip\"` from the working directory. This file contains sub-directories collected from BBC News named: (a) business, (b) entertainment, (c) politics, (d) sports, and (e)tech. <br>\n",
    "\n",
    "You are required to read all the files in `BBC_Data.zip`, process the data using spaCy, and write out your processed data in a seperate file. \n",
    "\n",
    "**Note: ** You are allowed to write only one data file.  "
   ]
  },
  {
   "cell_type": "code",
   "execution_count": 2,
   "metadata": {
    "collapsed": true
   },
   "outputs": [],
   "source": [
    "import submission as submission\n",
    "input_dir = './BBC_Data.zip'\n",
    "data_file = submission.process_data(input_dir)"
   ]
  },
  {
   "cell_type": "markdown",
   "metadata": {},
   "source": [
    "# 4: Model training\n",
    "\n",
    "In this part you are supposed to read the processed data, train your model, and write out your embeddings in the file: `\"adjective_embeddings.txt\"`."
   ]
  },
  {
   "cell_type": "code",
   "execution_count": 5,
   "metadata": {
    "collapsed": true
   },
   "outputs": [],
   "source": [
    "import submission as submission\n",
    "\n",
    "## Output file name to store the final trained embeddings.\n",
    "embedding_file_name = 'adjective_embeddings.txt'\n",
    "\n",
    "## Fixed parameters\n",
    "num_steps = 100001\n",
    "embedding_dim = 200\n",
    "\n",
    "\n",
    "## Train Embeddings, and write embeddings in \"adjective_embeddings.txt\"\n",
    "submission.adjective_embeddings(data_file, embedding_file_name, num_steps, embedding_dim)"
   ]
  },
  {
   "cell_type": "markdown",
   "metadata": {},
   "source": [
    "# 5: Evaluation\n",
    "\n",
    "We will load your trained model `\"adjective_embeddings.txt\"`, and test it using the following set of adjectives: <br>\n",
    "\n",
    "Test_Adjectives =['able', 'average', 'bad', 'best', 'big', 'certain', 'common', 'current', 'different',\n",
    "                  'difficult', 'early', 'extra', 'fair', 'few', 'final', 'former', 'great', 'hard', \n",
    "                  'high', 'huge', 'important', 'key', 'large', 'last', 'less', 'likely', \n",
    "                  'little', 'major', 'more', 'most', 'much', 'new', 'next', 'old', 'prime', 'real', 'recent', \n",
    "                  'same', 'serious', 'short', 'small', 'top', 'tough', 'wide']\n",
    "                  \n",
    "\n",
    "We evaluate your model by:\n",
    "\n",
    "1. Selecting one adjective at a time from the list `Test_Adjectives`.\n",
    "2. For the selected adjective, computing a list of **top_k** most nearest words using the method `Compute_topk(model_file, input_adjective, top_k)`\n",
    "3. Comparing your output for the adjective with ground truth list of synonyms for that adjective, and evaluating **Hits@k(k = 100)**.\n",
    "4. Average out the result **(Hits@k(k= 100))** for all the adjectives to calculate Average Precision.\n",
    "\n",
    "\n",
    "### Evaluation Example (using a smaller `k` value):\n",
    "\n",
    "a) <br>\n",
    "Ground_truth_new = ['novel', 'recent', 'first', 'current', 'latest'] <br>\n",
    "Output_new = ['old', 'novel', 'first', 'extra', 'out'] <br>\n",
    "Hits@k(k=5) = 2\n",
    "\n",
    "b) <br>\n",
    "Ground_truth_good = ['better', 'best', 'worthwhile', 'prosperous', 'excellent'] <br>\n",
    "Output_good = ['hate', 'better', 'best', 'worthwhile', 'prosperous'] <br>\n",
    "Hits@k(k=5) = 4\n",
    "\n",
    "Average_Hits@k(k=5) = (2+4)/2 = 3.0"
   ]
  },
  {
   "cell_type": "markdown",
   "metadata": {},
   "source": [
    "## 5.1 Loading Pre-trained model using Gensim\n",
    "\n",
    "Before final submission, you should check that you can load your trained model `\"adjective_embeddings.txt\"` using `gensim`, and test that it supports the operation `model.most_similar()` as illustrated below.\n",
    "\n",
    "As an example, in this section, we load a pre-trained file `\"adjective_embeddings.txt\"` using `gensim`. "
   ]
  },
  {
   "cell_type": "code",
   "execution_count": null,
   "metadata": {
    "collapsed": true
   },
   "outputs": [],
   "source": [
    "import gensim\n",
    "\n",
    "model_file = 'adjective_embeddings.txt'\n",
    "\n",
    "## How we will load your trained embeddings for evaluation.\n",
    "model = gensim.models.KeyedVectors.load_word2vec_format(model_file, binary=False)"
   ]
  },
  {
   "cell_type": "markdown",
   "metadata": {},
   "source": [
    "## 5.2: Computing Top-k results\n",
    "\n",
    "To evaluate your results, we will run the method named: `Compute_topk(model_file, input_adjective, top_k)` that reads in:<br>\n",
    "\n",
    "* pre-trained model file `\"adjective_embeddings.txt\"` using gensim\n",
    "* an input adjective `input_adjective` \n",
    "* top_k \n",
    "\n",
    "and returns a list of `top_k` similar words for the `input_adjective`.\n",
    "\n",
    "**Note : ** *The method `Compute_topk(model_file, input_adjective, top_k)` has been added to allow post-processing on embeddings results.*"
   ]
  },
  {
   "cell_type": "code",
   "execution_count": null,
   "metadata": {
    "collapsed": true
   },
   "outputs": [],
   "source": [
    "import gensim\n",
    "import submission as submission\n",
    "\n",
    "model_file = 'adjective_embeddings.txt'\n",
    "input_adjective = 'bad'\n",
    "top_k = 5\n",
    "\n",
    "output = []\n",
    "output = submission.Compute_topk(model_file, input_adjective, top_k)\n",
    "print(output)"
   ]
  },
  {
   "cell_type": "markdown",
   "metadata": {},
   "source": [
    "## 5.3 Sample Adjectives and their Synonyms\n",
    "\n",
    "For experimentation, we provide you with a sample list of adjectives alongside their synonyms. \n",
    "These synonyms lists are not complete, they just denote a small subset of the possible synonyms of each adjective that you may use to evaluate your embeddings.\n",
    "\n",
    "````\n",
    "Sample_adj = ['new', 'more', 'last', 'best', 'next', 'many', 'good']\n",
    "\n",
    "Sample_adj_synonyms = {}\n",
    "\n",
    "Sample_adj_synonyms['new'] = ['novel', 'recent', 'first', 'current', 'latest',...]\n",
    "Sample_adj_synonyms['more'] = ['higher' , 'larger', 'unlimited', 'greater', 'countless',...]\n",
    "Sample_adj_synonyms['last'] = ['past' , 'final', 'previous', 'earlier', 'late',...]\n",
    "Sample_adj_synonyms['best'] = ['finest' , 'good', 'greatest', 'spotless', 'perfect',...]\n",
    "Sample_adj_synonyms['next'] = ['coming' , 'following', 'forthcoming', 'consecutive', 'upcoming',...]\n",
    "Sample_adj_synonyms['many'] = ['most' , 'countless', 'excess', 'several', 'much',...]\n",
    "Sample_adj_synonyms['good'] = ['better', 'best', 'worthwhile', 'prosperous', 'fantastic',...]\n",
    "````"
   ]
  },
  {
   "cell_type": "markdown",
   "metadata": {
    "collapsed": true
   },
   "source": [
    "## 5.4 Late penalty\n",
    "\n",
    "**-10% per day for the first three days, and -20% per day afterwards.**"
   ]
  },
  {
   "cell_type": "code",
   "execution_count": null,
   "metadata": {
    "collapsed": true
   },
   "outputs": [],
   "source": []
  }
 ],
 "metadata": {
  "kernelspec": {
   "display_name": "Python 3",
   "language": "python",
   "name": "python3"
  },
  "language_info": {
   "codemirror_mode": {
    "name": "ipython",
    "version": 3
   },
   "file_extension": ".py",
   "mimetype": "text/x-python",
   "name": "python",
   "nbconvert_exporter": "python",
   "pygments_lexer": "ipython3",
   "version": "3.6.1"
  }
 },
 "nbformat": 4,
 "nbformat_minor": 2
}
